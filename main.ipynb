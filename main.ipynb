{
 "cells": [
  {
   "cell_type": "code",
   "execution_count": 7,
   "metadata": {
    "pycharm": {
     "name": "#%%\n"
    }
   },
   "outputs": [
    {
     "name": "stdout",
     "output_type": "stream",
     "text": [
      "model loads successfully\r\n",
      "  0%|                                                     | 0/2 [00:00<?, ?it/s]time is : 1.1110830307006836\r\n",
      " 50%|██████████████████████▌                      | 1/2 [00:01<00:01,  1.21s/it]time is : 1.061493158340454\r\n",
      "100%|█████████████████████████████████████████████| 2/2 [00:02<00:00,  1.19s/it]\r\n",
      "inference time is: 2.3787598609924316\r\n",
      "mask (1024, 1024)\r\n",
      "output_path: ../results\r\n",
      "[[[  0 255   0]\r\n",
      "  [  0 255   0]\r\n",
      "  [  0 255   0]\r\n",
      "  ...\r\n",
      "  [  0 255   0]\r\n",
      "  [  0 255   0]\r\n",
      "  [  0 255   0]]\r\n",
      "\r\n",
      " [[  0 255   0]\r\n",
      "  [  0 255   0]\r\n",
      "  [  0 255   0]\r\n",
      "  ...\r\n",
      "  [  0 255   0]\r\n",
      "  [  0 255   0]\r\n",
      "  [  0 255   0]]\r\n",
      "\r\n",
      " [[  0 255   0]\r\n",
      "  [  0 255   0]\r\n",
      "  [  0 255   0]\r\n",
      "  ...\r\n",
      "  [  0 255   0]\r\n",
      "  [  0 255   0]\r\n",
      "  [  0 255   0]]\r\n",
      "\r\n",
      " ...\r\n",
      "\r\n",
      " [[255 255   0]\r\n",
      "  [255 255   0]\r\n",
      "  [255 255   0]\r\n",
      "  ...\r\n",
      "  [255 255 255]\r\n",
      "  [255 255 255]\r\n",
      "  [255 255 255]]\r\n",
      "\r\n",
      " [[255 255   0]\r\n",
      "  [255 255   0]\r\n",
      "  [255 255   0]\r\n",
      "  ...\r\n",
      "  [255 255 255]\r\n",
      "  [255 255 255]\r\n",
      "  [255 255 255]]\r\n",
      "\r\n",
      " [[255 255   0]\r\n",
      "  [255 255   0]\r\n",
      "  [255 255   0]\r\n",
      "  ...\r\n",
      "  [255 255 255]\r\n",
      "  [255 255 255]\r\n",
      "  [255 255 255]]]\r\n",
      "  0%|                                                     | 0/2 [00:00<?, ?it/s]time is : 1.0856330394744873\r\n",
      " 50%|██████████████████████▌                      | 1/2 [00:01<00:01,  1.18s/it]time is : 1.087296962738037\r\n",
      "100%|█████████████████████████████████████████████| 2/2 [00:02<00:00,  1.18s/it]\r\n",
      "inference time is: 2.3645710945129395\r\n",
      "mask (1024, 1024)\r\n",
      "output_path: ../results\r\n",
      "[[[  0 255   0]\r\n",
      "  [  0 255   0]\r\n",
      "  [  0 255   0]\r\n",
      "  ...\r\n",
      "  [  0 255   0]\r\n",
      "  [  0 255   0]\r\n",
      "  [  0 255   0]]\r\n",
      "\r\n",
      " [[  0 255   0]\r\n",
      "  [  0 255   0]\r\n",
      "  [  0 255   0]\r\n",
      "  ...\r\n",
      "  [  0 255   0]\r\n",
      "  [  0 255   0]\r\n",
      "  [  0 255   0]]\r\n",
      "\r\n",
      " [[  0 255   0]\r\n",
      "  [  0 255   0]\r\n",
      "  [  0 255   0]\r\n",
      "  ...\r\n",
      "  [  0 255   0]\r\n",
      "  [  0 255   0]\r\n",
      "  [  0 255   0]]\r\n",
      "\r\n",
      " ...\r\n",
      "\r\n",
      " [[255 255   0]\r\n",
      "  [255 255   0]\r\n",
      "  [255 255   0]\r\n",
      "  ...\r\n",
      "  [255 255 255]\r\n",
      "  [255 255 255]\r\n",
      "  [255 255 255]]\r\n",
      "\r\n",
      " [[255 255   0]\r\n",
      "  [255 255   0]\r\n",
      "  [255 255   0]\r\n",
      "  ...\r\n",
      "  [255 255 255]\r\n",
      "  [255 255 255]\r\n",
      "  [255 255 255]]\r\n",
      "\r\n",
      " [[255 255   0]\r\n",
      "  [255 255   0]\r\n",
      "  [255 255   0]\r\n",
      "  ...\r\n",
      "  [255 255 255]\r\n",
      "  [255 255 255]\r\n",
      "  [255 255 255]]]\r\n"
     ]
    }
   ],
   "source": [
    "!python inference_huge_image.py -c config/vaihingen/dcswin.py -i ../inference -o ../results"
   ]
  },
  {
   "cell_type": "code",
   "execution_count": null,
   "metadata": {
    "pycharm": {
     "name": "#%%\n"
    }
   },
   "outputs": [],
   "source": []
  }
 ],
 "metadata": {
  "interpreter": {
   "hash": "66d8d1f0bec3640ae0940c55bce1722d40d1a73a0de310a6857b885896bcfdfc"
  },
  "kernelspec": {
   "name": "python3816jvsc74a57bd066d8d1f0bec3640ae0940c55bce1722d40d1a73a0de310a6857b885896bcfdfc",
   "language": "python",
   "display_name": "Python 3.8.16 ('geoseg2')"
  },
  "language_info": {
   "codemirror_mode": {
    "name": "ipython",
    "version": 3
   },
   "file_extension": ".py",
   "mimetype": "text/x-python",
   "name": "python",
   "nbconvert_exporter": "python",
   "pygments_lexer": "ipython3",
   "version": "3.8.16"
  },
  "orig_nbformat": 4
 },
 "nbformat": 4,
 "nbformat_minor": 2
}